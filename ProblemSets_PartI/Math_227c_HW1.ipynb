{
 "cells": [
  {
   "cell_type": "code",
   "execution_count": 1,
   "metadata": {},
   "outputs": [],
   "source": [
    "p_1=.1\n",
    "p_2=.1\n",
    "p_3=.1\n",
    "p_4=.1\n",
    "p_5=.1\n",
    "p_1*p_2*p_3*p_4*p_5 + p_1*p_2*p_3*p_4*(1-p_5) + p_1*p_2*p_3*(1-p_4)*p_5+p_1*p_2*(1-p_3)*p_4*p_5+ p_1*p_2*(1-p_3)*p_4*(1-p_5)+p_1*p_2*(1-p_3)*(1-p_4)*p_5+p_1*(1-p_2)*p_3*p_4*p_5+p_1*(1-p_2)*p_3*p_4*(1-p_5) + p_1*(1-p_2)*p_3*(1-p_4)*p_5+p_1*(1-p_2)*(1-p_3)*p_4*p_5 +p_1*(1-p_2)*(1-p_3)*p_4*(1-p_5)+(1-p_1)*p_2*p_3*p_4*p_5+(1-p_1)*p_2*p_3*p_4*(1-p_5)+(1-p_1)*p_2*p_3*(1-p_4)*p_5 +(1-p_1)*p_2*(1-p_3)*p_4*p_5+(1-p_1)*p_2*(1-p_3)*(1-p_4)*p_5"
   ]
  },
  {
   "cell_type": "code",
   "execution_count": 2,
   "metadata": {},
   "outputs": [],
   "source": [
    "p_1=1\n",
    "p_2=.1\n",
    "p_3=.1\n",
    "p_4=.1\n",
    "p_5=.1\n",
    "p_1*p_2*p_3*p_4*p_5 + p_1*p_2*p_3*p_4*(1-p_5) + p_1*p_2*p_3*(1-p_4)*p_5+p_1*p_2*(1-p_3)*p_4*p_5+ p_1*p_2*(1-p_3)*p_4*(1-p_5)+p_1*p_2*(1-p_3)*(1-p_4)*p_5+p_1*(1-p_2)*p_3*p_4*p_5+p_1*(1-p_2)*p_3*p_4*(1-p_5) + p_1*(1-p_2)*p_3*(1-p_4)*p_5+p_1*(1-p_2)*(1-p_3)*p_4*p_5 +p_1*(1-p_2)*(1-p_3)*p_4*(1-p_5)+(1-p_1)*p_2*p_3*p_4*p_5+(1-p_1)*p_2*p_3*p_4*(1-p_5)+(1-p_1)*p_2*p_3*(1-p_4)*p_5 +(1-p_1)*p_2*(1-p_3)*p_4*p_5+(1-p_1)*p_2*(1-p_3)*(1-p_4)*p_5"
   ]
  },
  {
   "cell_type": "code",
   "execution_count": 3,
   "metadata": {},
   "outputs": [],
   "source": [
    "p_1=.5\n",
    "p_2=.5\n",
    "p_3=.5\n",
    "p_4=.5\n",
    "p_5=.5\n",
    "p_1*p_2*p_3*p_4*p_5 + p_1*p_2*p_3*p_4*(1-p_5) + p_1*p_2*p_3*(1-p_4)*p_5+p_1*p_2*(1-p_3)*p_4*p_5+ p_1*p_2*(1-p_3)*p_4*(1-p_5)+p_1*p_2*(1-p_3)*(1-p_4)*p_5+p_1*(1-p_2)*p_3*p_4*p_5+p_1*(1-p_2)*p_3*p_4*(1-p_5) + p_1*(1-p_2)*p_3*(1-p_4)*p_5+p_1*(1-p_2)*(1-p_3)*p_4*p_5 +p_1*(1-p_2)*(1-p_3)*p_4*(1-p_5)+(1-p_1)*p_2*p_3*p_4*p_5+(1-p_1)*p_2*p_3*p_4*(1-p_5)+(1-p_1)*p_2*p_3*(1-p_4)*p_5 +(1-p_1)*p_2*(1-p_3)*p_4*p_5+(1-p_1)*p_2*(1-p_3)*(1-p_4)*p_5"
   ]
  },
  {
   "cell_type": "code",
   "execution_count": 4,
   "metadata": {},
   "outputs": [
    {
     "data": {
      "text/plain": [
       "0.9271000000000001"
      ]
     },
     "execution_count": 4,
     "metadata": {},
     "output_type": "execute_result"
    }
   ],
   "source": [
    "p_1=1\n",
    "p_2=.91\n",
    "p_3=.1\n",
    "p_4=.1\n",
    "p_5=1\n",
    "p_1*p_2*p_3*p_4*p_5 + p_1*p_2*p_3*p_4*(1-p_5) + p_1*p_2*p_3*(1-p_4)*p_5+p_1*p_2*(1-p_3)*p_4*p_5+ p_1*p_2*(1-p_3)*p_4*(1-p_5)+p_1*p_2*(1-p_3)*(1-p_4)*p_5+p_1*(1-p_2)*p_3*p_4*p_5+p_1*(1-p_2)*p_3*p_4*(1-p_5) + p_1*(1-p_2)*p_3*(1-p_4)*p_5+p_1*(1-p_2)*(1-p_3)*p_4*p_5 +p_1*(1-p_2)*(1-p_3)*p_4*(1-p_5)+(1-p_1)*p_2*p_3*p_4*p_5+(1-p_1)*p_2*p_3*p_4*(1-p_5)+(1-p_1)*p_2*p_3*(1-p_4)*p_5 +(1-p_1)*p_2*(1-p_3)*p_4*p_5+(1-p_1)*p_2*(1-p_3)*(1-p_4)*p_5"
   ]
  },
  {
   "cell_type": "code",
   "execution_count": 5,
   "metadata": {},
   "outputs": [
    {
     "data": {
      "text/plain": [
       "1"
      ]
     },
     "execution_count": 5,
     "metadata": {},
     "output_type": "execute_result"
    }
   ],
   "source": [
    "p_1=1\n",
    "p_2=0\n",
    "p_3=0\n",
    "p_4=1\n",
    "p_5=0\n",
    "p_1*p_2*p_3*p_4*p_5 + p_1*p_2*p_3*p_4*(1-p_5) + p_1*p_2*p_3*(1-p_4)*p_5+p_1*p_2*(1-p_3)*p_4*p_5+ p_1*p_2*(1-p_3)*p_4*(1-p_5)+p_1*p_2*(1-p_3)*(1-p_4)*p_5+p_1*(1-p_2)*p_3*p_4*p_5+p_1*(1-p_2)*p_3*p_4*(1-p_5) + p_1*(1-p_2)*p_3*(1-p_4)*p_5+p_1*(1-p_2)*(1-p_3)*p_4*p_5 +p_1*(1-p_2)*(1-p_3)*p_4*(1-p_5)+(1-p_1)*p_2*p_3*p_4*p_5+(1-p_1)*p_2*p_3*p_4*(1-p_5)+(1-p_1)*p_2*p_3*(1-p_4)*p_5 +(1-p_1)*p_2*(1-p_3)*p_4*p_5+(1-p_1)*p_2*(1-p_3)*(1-p_4)*p_5"
   ]
  },
  {
   "cell_type": "code",
   "execution_count": 6,
   "metadata": {},
   "outputs": [
    {
     "data": {
      "text/plain": [
       "0.10450000000000001"
      ]
     },
     "execution_count": 6,
     "metadata": {},
     "output_type": "execute_result"
    }
   ],
   "source": [
    "p_1=.5\n",
    "p_2=.1\n",
    "p_3=.1\n",
    "p_4=.1\n",
    "p_5=.4\n",
    "p_1*p_2*p_3*p_4*p_5 + p_1*p_2*p_3*p_4*(1-p_5) + p_1*p_2*p_3*(1-p_4)*p_5+p_1*p_2*(1-p_3)*p_4*p_5+ p_1*p_2*(1-p_3)*p_4*(1-p_5)+p_1*p_2*(1-p_3)*(1-p_4)*p_5+p_1*(1-p_2)*p_3*p_4*p_5+p_1*(1-p_2)*p_3*p_4*(1-p_5) + p_1*(1-p_2)*p_3*(1-p_4)*p_5+p_1*(1-p_2)*(1-p_3)*p_4*p_5 +p_1*(1-p_2)*(1-p_3)*p_4*(1-p_5)+(1-p_1)*p_2*p_3*p_4*p_5+(1-p_1)*p_2*p_3*p_4*(1-p_5)+(1-p_1)*p_2*p_3*(1-p_4)*p_5 +(1-p_1)*p_2*(1-p_3)*p_4*p_5+(1-p_1)*p_2*(1-p_3)*(1-p_4)*p_5"
   ]
  },
  {
   "cell_type": "code",
   "execution_count": 7,
   "metadata": {},
   "outputs": [
    {
     "data": {
      "text/plain": [
       "1"
      ]
     },
     "execution_count": 7,
     "metadata": {},
     "output_type": "execute_result"
    }
   ],
   "source": [
    "p_1=1\n",
    "p_2=1\n",
    "p_3=1\n",
    "p_4=1\n",
    "p_5=1\n",
    "p_1*p_2*p_3*p_4*p_5 + p_1*p_2*p_3*p_4*(1-p_5) + p_1*p_2*p_3*(1-p_4)*p_5+p_1*p_2*(1-p_3)*p_4*p_5+ p_1*p_2*(1-p_3)*p_4*(1-p_5)+p_1*p_2*(1-p_3)*(1-p_4)*p_5+p_1*(1-p_2)*p_3*p_4*p_5+p_1*(1-p_2)*p_3*p_4*(1-p_5) + p_1*(1-p_2)*p_3*(1-p_4)*p_5+p_1*(1-p_2)*(1-p_3)*p_4*p_5 +p_1*(1-p_2)*(1-p_3)*p_4*(1-p_5)+(1-p_1)*p_2*p_3*p_4*p_5+(1-p_1)*p_2*p_3*p_4*(1-p_5)+(1-p_1)*p_2*p_3*(1-p_4)*p_5 +(1-p_1)*p_2*(1-p_3)*p_4*p_5+(1-p_1)*p_2*(1-p_3)*(1-p_4)*p_5"
   ]
  }
 ],
 "metadata": {
  "kernelspec": {
   "display_name": "Python 3",
   "language": "python",
   "name": "python3"
  },
  "language_info": {
   "codemirror_mode": {
    "name": "ipython",
    "version": 3
   },
   "file_extension": ".py",
   "mimetype": "text/x-python",
   "name": "python",
   "nbconvert_exporter": "python",
   "pygments_lexer": "ipython3",
   "version": "3.8.5"
  }
 },
 "nbformat": 4,
 "nbformat_minor": 4
}
